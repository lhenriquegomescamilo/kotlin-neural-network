{
 "cells": [
  {
   "metadata": {},
   "cell_type": "markdown",
   "source": "### Let's build a neuron and neuron network"
  },
  {
   "metadata": {},
   "cell_type": "markdown",
   "source": "This is the activation Functions"
  },
  {
   "metadata": {
    "ExecuteTime": {
     "end_time": "2025-06-22T21:33:03.296533851Z",
     "start_time": "2025-06-22T21:33:03.218495744Z"
    }
   },
   "cell_type": "code",
   "source": [
    "fun sigmoid(x: Double): Double = 1.0 / (1.0 + exp(-x))\n",
    "fun sigmoidDerivative(x: Double): Double = x * (1 - x)"
   ],
   "outputs": [],
   "execution_count": 4
  },
  {
   "metadata": {},
   "cell_type": "markdown",
   "source": "And the neuron definition"
  },
  {
   "metadata": {
    "ExecuteTime": {
     "end_time": "2025-06-22T21:33:03.546776040Z",
     "start_time": "2025-06-22T21:33:03.303718546Z"
    }
   },
   "cell_type": "code",
   "source": [
    "import kotlin.random.Random\n",
    "\n",
    "data class Neuron(var weights: DoubleArray, var bias: Double = Random.nextDouble())\n"
   ],
   "outputs": [],
   "execution_count": 5
  },
  {
   "metadata": {
    "ExecuteTime": {
     "end_time": "2025-06-22T21:33:05.343894189Z",
     "start_time": "2025-06-22T21:33:03.557786523Z"
    }
   },
   "cell_type": "code",
   "source": [
    "class NeuralNetwork(\n",
    "    val inputSize: Int,\n",
    "    val hiddenSize: Int,\n",
    "    val outputSize: Int,\n",
    "    val learningRate: Double = 0.1\n",
    ") {\n",
    "\n",
    "    private val hiddenLayer = Array(hiddenSize) { Neuron(DoubleArray(inputSize) { Random.nextDouble() }) }\n",
    "    private val outputLayer = Array(outputSize) { Neuron(DoubleArray(hiddenSize) { Random.nextDouble() }) }\n",
    "\n",
    "    fun forward(input: DoubleArray): DoubleArray {\n",
    "        val hiddenOutputs = hiddenLayer.map { neuron ->\n",
    "            val sum = neuron.weights.zip(input).sumOf { it.first * it.second } + neuron.bias\n",
    "            sigmoid(sum)\n",
    "        }.toDoubleArray()\n",
    "\n",
    "        return outputLayer.map { neuron ->\n",
    "            val sum = neuron.weights.zip(hiddenOutputs).sumOf { it.first * it.second } + neuron.bias\n",
    "            sigmoid(sum)\n",
    "        }.toDoubleArray()\n",
    "    }\n",
    "\n",
    "    fun train(inputs: List<DoubleArray>, targets: List<DoubleArray>, epochs: Int = 10000) {\n",
    "        repeat(epochs) {\n",
    "            for ((input, target) in inputs.zip(targets)) {\n",
    "\n",
    "                // --- FORWARD PASS ---\n",
    "                val hiddenOutputs = hiddenLayer.map { neuron ->\n",
    "                    val z = neuron.weights.zip(input).sumOf { (w, x) -> w * x } + neuron.bias\n",
    "                    sigmoid(z)\n",
    "                }.toDoubleArray()\n",
    "\n",
    "                val finalOutputs = outputLayer.map { neuron ->\n",
    "                    val z = neuron.weights.zip(hiddenOutputs).sumOf { (w, x) -> w * x } + neuron.bias\n",
    "                    sigmoid(z)\n",
    "                }.toDoubleArray()\n",
    "\n",
    "                // --- BACKWARD PASS ---\n",
    "\n",
    "                // 1. Output layer\n",
    "                val outputErrors = target.zip(finalOutputs).map { (t, o) -> t - o }.toDoubleArray()\n",
    "                val outputGradients = finalOutputs.mapIndexed { i, o ->\n",
    "                    outputErrors[i] * sigmoidDerivative(o)\n",
    "                }\n",
    "\n",
    "                outputLayer.forEachIndexed { i, neuron ->\n",
    "                    neuron.weights = neuron.weights.mapIndexed { j, w ->\n",
    "                        w + learningRate * outputGradients[i] * hiddenOutputs[j]\n",
    "                    }.toDoubleArray()\n",
    "                    neuron.bias += learningRate * outputGradients[i]\n",
    "                }\n",
    "\n",
    "                // 2. Hidden layer\n",
    "                val hiddenErrors = hiddenLayer.indices.map { h ->\n",
    "                    outputLayer.indices.sumOf { o ->\n",
    "                        outputGradients[o] * outputLayer[o].weights[h]\n",
    "                    }\n",
    "                }\n",
    "\n",
    "                val hiddenGradients = hiddenOutputs.mapIndexed { i, hOut ->\n",
    "                    hiddenErrors[i] * sigmoidDerivative(hOut)\n",
    "                }\n",
    "\n",
    "                hiddenLayer.forEachIndexed { i, neuron ->\n",
    "                    neuron.weights = neuron.weights.mapIndexed { j, w ->\n",
    "                        w + learningRate * hiddenGradients[i] * input[j]\n",
    "                    }.toDoubleArray()\n",
    "                    neuron.bias += learningRate * hiddenGradients[i]\n",
    "                }\n",
    "            }\n",
    "        }\n",
    "    }\n",
    "}"
   ],
   "outputs": [],
   "execution_count": 6
  },
  {
   "metadata": {},
   "cell_type": "markdown",
   "source": [
    "---\n",
    "### Example usage for (XOR)"
   ]
  },
  {
   "metadata": {
    "ExecuteTime": {
     "end_time": "2025-06-22T21:33:06.466674375Z",
     "start_time": "2025-06-22T21:33:05.356998208Z"
    }
   },
   "cell_type": "code",
   "source": [
    "val neuralNetwork = NeuralNetwork(inputSize = 2, hiddenSize = 2, outputSize = 1)\n",
    "\n",
    "val inputs = listOf(\n",
    "    doubleArrayOf(0.0, 0.0),\n",
    "    doubleArrayOf(0.0, 1.0),\n",
    "    doubleArrayOf(1.0, 0.0),\n",
    "    doubleArrayOf(1.0, 1.0),\n",
    ")\n",
    "\n",
    "val targets = listOf(\n",
    "    doubleArrayOf(0.0),\n",
    "    doubleArrayOf(1.0),\n",
    "    doubleArrayOf(1.0),\n",
    "    doubleArrayOf(0.0),\n",
    ")\n",
    "\n",
    "neuralNetwork.train(inputs, targets, epochs = 100000)\n",
    "\n",
    "buildString {\n",
    "    append(\"Testing XOR after traning:\\n\")\n",
    "    for (input in inputs) {\n",
    "        val output = neuralNetwork.forward(input)\n",
    "        append(\"${input.joinToString()} -> ${\"%.4f\".format(output[0])}\\n\")\n",
    "    }\n",
    "}"
   ],
   "outputs": [
    {
     "data": {
      "text/plain": [
       "Testing XOR after traning:\n",
       "0.0, 0.0 -> 0.0131\n",
       "0.0, 1.0 -> 0.9888\n",
       "1.0, 0.0 -> 0.9888\n",
       "1.0, 1.0 -> 0.0115\n"
      ]
     },
     "execution_count": 7,
     "metadata": {},
     "output_type": "execute_result"
    }
   ],
   "execution_count": 7
  }
 ],
 "metadata": {
  "kernelspec": {
   "display_name": "Kotlin",
   "language": "kotlin",
   "name": "kotlin"
  },
  "language_info": {
   "name": "kotlin",
   "version": "1.9.23",
   "mimetype": "text/x-kotlin",
   "file_extension": ".kt",
   "pygments_lexer": "kotlin",
   "codemirror_mode": "text/x-kotlin",
   "nbconvert_exporter": ""
  }
 },
 "nbformat": 4,
 "nbformat_minor": 0
}
